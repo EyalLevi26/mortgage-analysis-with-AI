{
 "cells": [
  {
   "cell_type": "code",
   "execution_count": null,
   "metadata": {},
   "outputs": [],
   "source": [
    "import pandas as pd\n",
    "import numpy as np\n",
    "import plotly.graph_objects as go\n",
    "from plotly.graph_objects import Figure\n",
    "from pathlib import Path"
   ]
  },
  {
   "cell_type": "code",
   "execution_count": null,
   "metadata": {},
   "outputs": [],
   "source": [
    "class DataLoader:\n",
    "    def __init__(self, path: Path) -> None:\n",
    "        self.path_to_bank_info = path\n",
    "        self.data_bank_info: pd.DataFrame | None = None\n",
    "        self.data_bank_info = self._load_data_frame()\n",
    "        \n",
    "\n",
    "    def _load_data_frame(self) -> pd.DataFrame | None:\n",
    "        try:\n",
    "            banks_info = pd.read_excel(self.path_to_bank_info)\n",
    "            return banks_info\n",
    "        except Exception as e:\n",
    "            print(f\"Error loading data: {e}\")\n",
    "            return None"
   ]
  },
  {
   "cell_type": "code",
   "execution_count": null,
   "metadata": {},
   "outputs": [],
   "source": []
  }
 ],
 "metadata": {
  "kernelspec": {
   "display_name": "myenv",
   "language": "python",
   "name": "python3"
  },
  "language_info": {
   "name": "python",
   "version": "3.11.2"
  }
 },
 "nbformat": 4,
 "nbformat_minor": 2
}
