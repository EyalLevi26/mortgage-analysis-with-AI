{
 "cells": [
  {
   "cell_type": "code",
   "execution_count": 23,
   "metadata": {},
   "outputs": [],
   "source": [
    "import pandas as pd\n",
    "import numpy as np\n",
    "import plotly.graph_objects as go\n",
    "from plotly.graph_objects import Figure"
   ]
  },
  {
   "cell_type": "code",
   "execution_count": 24,
   "metadata": {},
   "outputs": [],
   "source": [
    "mortgage_amount_nis = 1200000\n",
    "num_of_years = 15\n",
    "prime_interest_rate = 6"
   ]
  },
  {
   "cell_type": "code",
   "execution_count": 26,
   "metadata": {},
   "outputs": [],
   "source": [
    "def keren_shava(mortgage_amount_nis, years, annual_interest_rate):\n",
    "    monthly_interest_rate = (annual_interest_rate / 100) / 12\n",
    "    \n",
    "    total_months = years * 12\n",
    "    payback_per_month = []\n",
    "    remaining_loan_principal = mortgage_amount_nis\n",
    "    const_payback_per_month = mortgage_amount_nis / total_months\n",
    "    for i in range(total_months):\n",
    "        payback_per_month.append(const_payback_per_month + monthly_interest_rate * remaining_loan_principal)\n",
    "        remaining_loan_principal -= const_payback_per_month\n",
    "    \n",
    "    return payback_per_month"
   ]
  },
  {
   "cell_type": "code",
   "execution_count": 28,
   "metadata": {},
   "outputs": [],
   "source": [
    "def shpitzer_payment(mortgage_amount_nis, years, annual_interest_rate):\n",
    "    \"\"\"\n",
    "    Calculate the monthly payment for a mortgage using the Shpitzer method.\n",
    "\n",
    "    Parameters:\n",
    "    mortgage_amount_nis (float): Total mortgage amount in NIS.\n",
    "    years (int): Number of years for the mortgage.\n",
    "    annual_interest_rate (float): Annual interest rate as a percentage (e.g., 3.5 for 3.5%).\n",
    "\n",
    "    Returns:\n",
    "    float: Monthly payment amount in NIS.\n",
    "    \"\"\"\n",
    "    # Convert annual interest rate to monthly interest rate (in decimal form)\n",
    "    monthly_interest_rate = (annual_interest_rate / 100) / 12\n",
    "    \n",
    "    # Total number of months\n",
    "    total_months = years * 12\n",
    "    \n",
    "    # Apply the annuity formula to calculate the monthly payment\n",
    "    if monthly_interest_rate > 0:\n",
    "        monthly_payment = (mortgage_amount_nis * monthly_interest_rate) / \\\n",
    "                          (1 - (1 + monthly_interest_rate) ** -total_months)\n",
    "    else:\n",
    "        # If the interest rate is 0, divide the mortgage amount by total months\n",
    "        monthly_payment = mortgage_amount_nis / total_months\n",
    "    \n",
    "    return monthly_payment"
   ]
  },
  {
   "cell_type": "code",
   "execution_count": 29,
   "metadata": {},
   "outputs": [],
   "source": [
    "path_file = r\"C:\\Users\\eyall\\Desktop\\mortgage_eyal_ortal_levi\\mortgage_israel_bank_info.xlsx\"\n",
    "\n",
    "banks_info = pd.read_excel(path_file)"
   ]
  },
  {
   "cell_type": "code",
   "execution_count": 30,
   "metadata": {},
   "outputs": [
    {
     "data": {
      "text/html": [
       "<div>\n",
       "<style scoped>\n",
       "    .dataframe tbody tr th:only-of-type {\n",
       "        vertical-align: middle;\n",
       "    }\n",
       "\n",
       "    .dataframe tbody tr th {\n",
       "        vertical-align: top;\n",
       "    }\n",
       "\n",
       "    .dataframe thead th {\n",
       "        text-align: right;\n",
       "    }\n",
       "</style>\n",
       "<table border=\"1\" class=\"dataframe\">\n",
       "  <thead>\n",
       "    <tr style=\"text-align: right;\">\n",
       "      <th></th>\n",
       "      <th>Bank</th>\n",
       "      <th>loan_type</th>\n",
       "      <th>Weight</th>\n",
       "      <th>Interest Rate</th>\n",
       "    </tr>\n",
       "  </thead>\n",
       "  <tbody>\n",
       "    <tr>\n",
       "      <th>0</th>\n",
       "      <td>Mizrachi</td>\n",
       "      <td>Constant interest rate and not index-linked</td>\n",
       "      <td>39.0</td>\n",
       "      <td>4.77</td>\n",
       "    </tr>\n",
       "    <tr>\n",
       "      <th>1</th>\n",
       "      <td>Mizrachi</td>\n",
       "      <td>change interest rate and not index-linked - prime</td>\n",
       "      <td>3.0</td>\n",
       "      <td>6.08</td>\n",
       "    </tr>\n",
       "    <tr>\n",
       "      <th>2</th>\n",
       "      <td>Mizrachi</td>\n",
       "      <td>change interest rate and not index-linked - no...</td>\n",
       "      <td>43.0</td>\n",
       "      <td>4.98</td>\n",
       "    </tr>\n",
       "    <tr>\n",
       "      <th>3</th>\n",
       "      <td>Mizrachi</td>\n",
       "      <td>change interest rate and index-linked</td>\n",
       "      <td>10.0</td>\n",
       "      <td>3.55</td>\n",
       "    </tr>\n",
       "    <tr>\n",
       "      <th>4</th>\n",
       "      <td>Mizrachi</td>\n",
       "      <td>Constant interest rate and  index-linked</td>\n",
       "      <td>5.0</td>\n",
       "      <td>3.63</td>\n",
       "    </tr>\n",
       "    <tr>\n",
       "      <th>5</th>\n",
       "      <td>Mizrachi</td>\n",
       "      <td>IRR</td>\n",
       "      <td>NaN</td>\n",
       "      <td>5.75</td>\n",
       "    </tr>\n",
       "    <tr>\n",
       "      <th>6</th>\n",
       "      <td>Leomi</td>\n",
       "      <td>Constant interest rate and not index-linked</td>\n",
       "      <td>26.0</td>\n",
       "      <td>4.83</td>\n",
       "    </tr>\n",
       "    <tr>\n",
       "      <th>7</th>\n",
       "      <td>Leomi</td>\n",
       "      <td>change interest rate and not index-linked - prime</td>\n",
       "      <td>11.0</td>\n",
       "      <td>5.55</td>\n",
       "    </tr>\n",
       "    <tr>\n",
       "      <th>8</th>\n",
       "      <td>Leomi</td>\n",
       "      <td>change interest rate and not index-linked - no...</td>\n",
       "      <td>42.0</td>\n",
       "      <td>4.96</td>\n",
       "    </tr>\n",
       "    <tr>\n",
       "      <th>9</th>\n",
       "      <td>Leomi</td>\n",
       "      <td>change interest rate and index-linked</td>\n",
       "      <td>12.0</td>\n",
       "      <td>3.26</td>\n",
       "    </tr>\n",
       "    <tr>\n",
       "      <th>10</th>\n",
       "      <td>Leomi</td>\n",
       "      <td>Constant interest rate and  index-linked</td>\n",
       "      <td>10.0</td>\n",
       "      <td>2.95</td>\n",
       "    </tr>\n",
       "    <tr>\n",
       "      <th>11</th>\n",
       "      <td>Leomi</td>\n",
       "      <td>IRR</td>\n",
       "      <td>NaN</td>\n",
       "      <td>5.72</td>\n",
       "    </tr>\n",
       "    <tr>\n",
       "      <th>12</th>\n",
       "      <td>Hapoalim</td>\n",
       "      <td>Constant interest rate and not index-linked</td>\n",
       "      <td>26.0</td>\n",
       "      <td>4.87</td>\n",
       "    </tr>\n",
       "    <tr>\n",
       "      <th>13</th>\n",
       "      <td>Hapoalim</td>\n",
       "      <td>change interest rate and not index-linked - prime</td>\n",
       "      <td>12.0</td>\n",
       "      <td>5.45</td>\n",
       "    </tr>\n",
       "    <tr>\n",
       "      <th>14</th>\n",
       "      <td>Hapoalim</td>\n",
       "      <td>change interest rate and not index-linked - no...</td>\n",
       "      <td>45.0</td>\n",
       "      <td>4.91</td>\n",
       "    </tr>\n",
       "    <tr>\n",
       "      <th>15</th>\n",
       "      <td>Hapoalim</td>\n",
       "      <td>change interest rate and index-linked</td>\n",
       "      <td>9.0</td>\n",
       "      <td>3.37</td>\n",
       "    </tr>\n",
       "    <tr>\n",
       "      <th>16</th>\n",
       "      <td>Hapoalim</td>\n",
       "      <td>Constant interest rate and  index-linked</td>\n",
       "      <td>8.0</td>\n",
       "      <td>3.12</td>\n",
       "    </tr>\n",
       "    <tr>\n",
       "      <th>17</th>\n",
       "      <td>Hapoalim</td>\n",
       "      <td>IRR</td>\n",
       "      <td>NaN</td>\n",
       "      <td>5.67</td>\n",
       "    </tr>\n",
       "    <tr>\n",
       "      <th>18</th>\n",
       "      <td>Diskont</td>\n",
       "      <td>Constant interest rate and not index-linked</td>\n",
       "      <td>19.0</td>\n",
       "      <td>5.10</td>\n",
       "    </tr>\n",
       "    <tr>\n",
       "      <th>19</th>\n",
       "      <td>Diskont</td>\n",
       "      <td>change interest rate and not index-linked - prime</td>\n",
       "      <td>21.0</td>\n",
       "      <td>5.53</td>\n",
       "    </tr>\n",
       "    <tr>\n",
       "      <th>20</th>\n",
       "      <td>Diskont</td>\n",
       "      <td>change interest rate and not index-linked - no...</td>\n",
       "      <td>25.0</td>\n",
       "      <td>5.18</td>\n",
       "    </tr>\n",
       "    <tr>\n",
       "      <th>21</th>\n",
       "      <td>Diskont</td>\n",
       "      <td>change interest rate and index-linked</td>\n",
       "      <td>18.0</td>\n",
       "      <td>2.91</td>\n",
       "    </tr>\n",
       "    <tr>\n",
       "      <th>22</th>\n",
       "      <td>Diskont</td>\n",
       "      <td>Constant interest rate and  index-linked</td>\n",
       "      <td>18.0</td>\n",
       "      <td>2.90</td>\n",
       "    </tr>\n",
       "    <tr>\n",
       "      <th>23</th>\n",
       "      <td>Diskont</td>\n",
       "      <td>IRR</td>\n",
       "      <td>NaN</td>\n",
       "      <td>5.89</td>\n",
       "    </tr>\n",
       "    <tr>\n",
       "      <th>24</th>\n",
       "      <td>Benleomi</td>\n",
       "      <td>Constant interest rate and not index-linked</td>\n",
       "      <td>24.0</td>\n",
       "      <td>5.00</td>\n",
       "    </tr>\n",
       "    <tr>\n",
       "      <th>25</th>\n",
       "      <td>Benleomi</td>\n",
       "      <td>change interest rate and not index-linked - prime</td>\n",
       "      <td>18.0</td>\n",
       "      <td>4.55</td>\n",
       "    </tr>\n",
       "    <tr>\n",
       "      <th>26</th>\n",
       "      <td>Benleomi</td>\n",
       "      <td>change interest rate and not index-linked - no...</td>\n",
       "      <td>32.0</td>\n",
       "      <td>4.97</td>\n",
       "    </tr>\n",
       "    <tr>\n",
       "      <th>27</th>\n",
       "      <td>Benleomi</td>\n",
       "      <td>change interest rate and index-linked</td>\n",
       "      <td>14.0</td>\n",
       "      <td>2.78</td>\n",
       "    </tr>\n",
       "    <tr>\n",
       "      <th>28</th>\n",
       "      <td>Benleomi</td>\n",
       "      <td>Constant interest rate and  index-linked</td>\n",
       "      <td>12.0</td>\n",
       "      <td>2.78</td>\n",
       "    </tr>\n",
       "    <tr>\n",
       "      <th>29</th>\n",
       "      <td>Benleomi</td>\n",
       "      <td>IRR</td>\n",
       "      <td>NaN</td>\n",
       "      <td>NaN</td>\n",
       "    </tr>\n",
       "    <tr>\n",
       "      <th>30</th>\n",
       "      <td>Marcantil</td>\n",
       "      <td>Constant interest rate and not index-linked</td>\n",
       "      <td>22.0</td>\n",
       "      <td>5.31</td>\n",
       "    </tr>\n",
       "    <tr>\n",
       "      <th>31</th>\n",
       "      <td>Marcantil</td>\n",
       "      <td>change interest rate and not index-linked - prime</td>\n",
       "      <td>15.0</td>\n",
       "      <td>5.74</td>\n",
       "    </tr>\n",
       "    <tr>\n",
       "      <th>32</th>\n",
       "      <td>Marcantil</td>\n",
       "      <td>change interest rate and not index-linked - no...</td>\n",
       "      <td>26.0</td>\n",
       "      <td>5.31</td>\n",
       "    </tr>\n",
       "    <tr>\n",
       "      <th>33</th>\n",
       "      <td>Marcantil</td>\n",
       "      <td>change interest rate and index-linked</td>\n",
       "      <td>19.0</td>\n",
       "      <td>2.98</td>\n",
       "    </tr>\n",
       "    <tr>\n",
       "      <th>34</th>\n",
       "      <td>Marcantil</td>\n",
       "      <td>Constant interest rate and  index-linked</td>\n",
       "      <td>17.0</td>\n",
       "      <td>2.92</td>\n",
       "    </tr>\n",
       "    <tr>\n",
       "      <th>35</th>\n",
       "      <td>Marcantil</td>\n",
       "      <td>IRR</td>\n",
       "      <td>NaN</td>\n",
       "      <td>5.94</td>\n",
       "    </tr>\n",
       "    <tr>\n",
       "      <th>36</th>\n",
       "      <td>Jerusalem</td>\n",
       "      <td>Constant interest rate and not index-linked</td>\n",
       "      <td>6.0</td>\n",
       "      <td>6.18</td>\n",
       "    </tr>\n",
       "    <tr>\n",
       "      <th>37</th>\n",
       "      <td>Jerusalem</td>\n",
       "      <td>change interest rate and not index-linked - prime</td>\n",
       "      <td>5.0</td>\n",
       "      <td>6.75</td>\n",
       "    </tr>\n",
       "    <tr>\n",
       "      <th>38</th>\n",
       "      <td>Jerusalem</td>\n",
       "      <td>change interest rate and not index-linked - no...</td>\n",
       "      <td>15.0</td>\n",
       "      <td>7.18</td>\n",
       "    </tr>\n",
       "    <tr>\n",
       "      <th>39</th>\n",
       "      <td>Jerusalem</td>\n",
       "      <td>change interest rate and index-linked</td>\n",
       "      <td>40.0</td>\n",
       "      <td>5.00</td>\n",
       "    </tr>\n",
       "    <tr>\n",
       "      <th>40</th>\n",
       "      <td>Jerusalem</td>\n",
       "      <td>Constant interest rate and  index-linked</td>\n",
       "      <td>34.0</td>\n",
       "      <td>4.77</td>\n",
       "    </tr>\n",
       "    <tr>\n",
       "      <th>41</th>\n",
       "      <td>Jerusalem</td>\n",
       "      <td>IRR</td>\n",
       "      <td>NaN</td>\n",
       "      <td>7.97</td>\n",
       "    </tr>\n",
       "    <tr>\n",
       "      <th>42</th>\n",
       "      <td>Others</td>\n",
       "      <td>Constant interest rate and not index-linked</td>\n",
       "      <td>30.0</td>\n",
       "      <td>4.84</td>\n",
       "    </tr>\n",
       "    <tr>\n",
       "      <th>43</th>\n",
       "      <td>Others</td>\n",
       "      <td>change interest rate and not index-linked - prime</td>\n",
       "      <td>9.0</td>\n",
       "      <td>5.51</td>\n",
       "    </tr>\n",
       "    <tr>\n",
       "      <th>44</th>\n",
       "      <td>Others</td>\n",
       "      <td>change interest rate and not index-linked - no...</td>\n",
       "      <td>40.0</td>\n",
       "      <td>4.98</td>\n",
       "    </tr>\n",
       "    <tr>\n",
       "      <th>45</th>\n",
       "      <td>Others</td>\n",
       "      <td>change interest rate and index-linked</td>\n",
       "      <td>12.0</td>\n",
       "      <td>3.38</td>\n",
       "    </tr>\n",
       "    <tr>\n",
       "      <th>46</th>\n",
       "      <td>Others</td>\n",
       "      <td>Constant interest rate and  index-linked</td>\n",
       "      <td>9.0</td>\n",
       "      <td>3.20</td>\n",
       "    </tr>\n",
       "    <tr>\n",
       "      <th>47</th>\n",
       "      <td>Others</td>\n",
       "      <td>IRR</td>\n",
       "      <td>NaN</td>\n",
       "      <td>5.77</td>\n",
       "    </tr>\n",
       "  </tbody>\n",
       "</table>\n",
       "</div>"
      ],
      "text/plain": [
       "         Bank                                          loan_type  Weight  \\\n",
       "0    Mizrachi        Constant interest rate and not index-linked    39.0   \n",
       "1    Mizrachi  change interest rate and not index-linked - prime     3.0   \n",
       "2    Mizrachi  change interest rate and not index-linked - no...    43.0   \n",
       "3    Mizrachi              change interest rate and index-linked    10.0   \n",
       "4    Mizrachi           Constant interest rate and  index-linked     5.0   \n",
       "5    Mizrachi                                                IRR     NaN   \n",
       "6       Leomi        Constant interest rate and not index-linked    26.0   \n",
       "7       Leomi  change interest rate and not index-linked - prime    11.0   \n",
       "8       Leomi  change interest rate and not index-linked - no...    42.0   \n",
       "9       Leomi              change interest rate and index-linked    12.0   \n",
       "10      Leomi           Constant interest rate and  index-linked    10.0   \n",
       "11      Leomi                                                IRR     NaN   \n",
       "12   Hapoalim        Constant interest rate and not index-linked    26.0   \n",
       "13   Hapoalim  change interest rate and not index-linked - prime    12.0   \n",
       "14   Hapoalim  change interest rate and not index-linked - no...    45.0   \n",
       "15   Hapoalim              change interest rate and index-linked     9.0   \n",
       "16   Hapoalim           Constant interest rate and  index-linked     8.0   \n",
       "17   Hapoalim                                                IRR     NaN   \n",
       "18    Diskont        Constant interest rate and not index-linked    19.0   \n",
       "19    Diskont  change interest rate and not index-linked - prime    21.0   \n",
       "20    Diskont  change interest rate and not index-linked - no...    25.0   \n",
       "21    Diskont              change interest rate and index-linked    18.0   \n",
       "22    Diskont           Constant interest rate and  index-linked    18.0   \n",
       "23    Diskont                                                IRR     NaN   \n",
       "24   Benleomi        Constant interest rate and not index-linked    24.0   \n",
       "25   Benleomi  change interest rate and not index-linked - prime    18.0   \n",
       "26   Benleomi  change interest rate and not index-linked - no...    32.0   \n",
       "27   Benleomi              change interest rate and index-linked    14.0   \n",
       "28   Benleomi           Constant interest rate and  index-linked    12.0   \n",
       "29   Benleomi                                                IRR     NaN   \n",
       "30  Marcantil        Constant interest rate and not index-linked    22.0   \n",
       "31  Marcantil  change interest rate and not index-linked - prime    15.0   \n",
       "32  Marcantil  change interest rate and not index-linked - no...    26.0   \n",
       "33  Marcantil              change interest rate and index-linked    19.0   \n",
       "34  Marcantil           Constant interest rate and  index-linked    17.0   \n",
       "35  Marcantil                                                IRR     NaN   \n",
       "36  Jerusalem        Constant interest rate and not index-linked     6.0   \n",
       "37  Jerusalem  change interest rate and not index-linked - prime     5.0   \n",
       "38  Jerusalem  change interest rate and not index-linked - no...    15.0   \n",
       "39  Jerusalem              change interest rate and index-linked    40.0   \n",
       "40  Jerusalem           Constant interest rate and  index-linked    34.0   \n",
       "41  Jerusalem                                                IRR     NaN   \n",
       "42     Others        Constant interest rate and not index-linked    30.0   \n",
       "43     Others  change interest rate and not index-linked - prime     9.0   \n",
       "44     Others  change interest rate and not index-linked - no...    40.0   \n",
       "45     Others              change interest rate and index-linked    12.0   \n",
       "46     Others           Constant interest rate and  index-linked     9.0   \n",
       "47     Others                                                IRR     NaN   \n",
       "\n",
       "    Interest Rate  \n",
       "0            4.77  \n",
       "1            6.08  \n",
       "2            4.98  \n",
       "3            3.55  \n",
       "4            3.63  \n",
       "5            5.75  \n",
       "6            4.83  \n",
       "7            5.55  \n",
       "8            4.96  \n",
       "9            3.26  \n",
       "10           2.95  \n",
       "11           5.72  \n",
       "12           4.87  \n",
       "13           5.45  \n",
       "14           4.91  \n",
       "15           3.37  \n",
       "16           3.12  \n",
       "17           5.67  \n",
       "18           5.10  \n",
       "19           5.53  \n",
       "20           5.18  \n",
       "21           2.91  \n",
       "22           2.90  \n",
       "23           5.89  \n",
       "24           5.00  \n",
       "25           4.55  \n",
       "26           4.97  \n",
       "27           2.78  \n",
       "28           2.78  \n",
       "29            NaN  \n",
       "30           5.31  \n",
       "31           5.74  \n",
       "32           5.31  \n",
       "33           2.98  \n",
       "34           2.92  \n",
       "35           5.94  \n",
       "36           6.18  \n",
       "37           6.75  \n",
       "38           7.18  \n",
       "39           5.00  \n",
       "40           4.77  \n",
       "41           7.97  \n",
       "42           4.84  \n",
       "43           5.51  \n",
       "44           4.98  \n",
       "45           3.38  \n",
       "46           3.20  \n",
       "47           5.77  "
      ]
     },
     "execution_count": 30,
     "metadata": {},
     "output_type": "execute_result"
    }
   ],
   "source": [
    "banks_info"
   ]
  },
  {
   "cell_type": "code",
   "execution_count": 31,
   "metadata": {},
   "outputs": [
    {
     "data": {
      "text/plain": [
       "Index(['Bank', 'loan_type', 'Weight', 'Interest Rate'], dtype='object')"
      ]
     },
     "execution_count": 31,
     "metadata": {},
     "output_type": "execute_result"
    }
   ],
   "source": [
    "banks_info.columns"
   ]
  },
  {
   "cell_type": "code",
   "execution_count": 35,
   "metadata": {},
   "outputs": [
    {
     "name": "stdout",
     "output_type": "stream",
     "text": [
      "['Constant interest rate and not index-linked'\n",
      " 'change interest rate and not index-linked - prime'\n",
      " 'change interest rate and not index-linked - not prime'\n",
      " 'change interest rate and index-linked'\n",
      " 'Constant interest rate and  index-linked' 'IRR']\n"
     ]
    }
   ],
   "source": [
    "unique_bank_names = banks_info[\"Bank\"].unique()\n",
    "unique_loan_type  = banks_info[\"loan_type\"].unique()\n",
    "print(unique_loan_type)"
   ]
  },
  {
   "cell_type": "code",
   "execution_count": 36,
   "metadata": {},
   "outputs": [],
   "source": [
    "\n",
    "not_index_linked_types = unique_loan_type[np.char.find(unique_loan_type.astype(str), 'not index-linked') != -1]\n",
    "very_low_risk_type = unique_loan_type[np.char.find(unique_loan_type.astype(str), 'Constant interest rate and not index-linked') != -1]\n",
    "all_types = unique_loan_type\n",
    "combination_dict = {\"low_risk\": very_low_risk_type, \"middle_risk\": not_index_linked_types, \"all\": all_types}"
   ]
  },
  {
   "cell_type": "code",
   "execution_count": 37,
   "metadata": {},
   "outputs": [],
   "source": [
    "def calc_total_payback_and_payback_rate_for_const_inter_not_index_linked(mortgage_amount_nis, years, annual_interest_rate):\n",
    "    total_months = years * 12\n",
    "    monthly_payment_shpizer_num = shpitzer_payment(mortgage_amount_nis, years, annual_interest_rate)\n",
    "    monthly_payment_keren_shava_list = keren_shava(mortgage_amount_nis, years, annual_interest_rate)\n",
    "    return {\"shpizer\": {\"total_payback\": monthly_payment_shpizer_num * total_months, \"payback_rate\": monthly_payment_shpizer_num * total_months / mortgage_amount_nis}, \\\n",
    "             \"keren_shava\": {\"total_payback\": sum(monthly_payment_keren_shava_list), \"payback_rate\": sum(monthly_payment_keren_shava_list) / mortgage_amount_nis}}"
   ]
  },
  {
   "cell_type": "code",
   "execution_count": 38,
   "metadata": {},
   "outputs": [],
   "source": [
    "def calc_total_payback_and_payback_rate_per_type(loan_type, mortgage_amount_nis, years, annual_interest_rate, payback_method):\n",
    "    match loan_type:\n",
    "        case 'Constant interest rate and not index-linked':\n",
    "            dict_payback_info = calc_total_payback_and_payback_rate_for_const_inter_not_index_linked( mortgage_amount_nis, years, annual_interest_rate)\n",
    "            return dict_payback_info[payback_method]"
   ]
  },
  {
   "cell_type": "code",
   "execution_count": 39,
   "metadata": {},
   "outputs": [
    {
     "data": {
      "application/vnd.plotly.v1+json": {
       "config": {
        "plotlyServerURL": "https://plot.ly"
       },
       "data": [
        {
         "mode": "lines+markers",
         "name": "Payback Rate - low_risk- Shpizer Method",
         "type": "scatter",
         "x": [
          "Mizrachi",
          "Leomi",
          "Hapoalim",
          "Diskont",
          "Benleomi",
          "Marcantil",
          "Jerusalem",
          "Others"
         ],
         "y": [
          1.4019558015209956,
          1.4075393515724417,
          1.41126879616251,
          1.4328227103498627,
          1.4234285281347836,
          1.4526648475371153,
          1.536502317226218,
          1.4084711821584885
         ]
        },
        {
         "mode": "lines+markers",
         "name": "Payback Rate - low_risk - Keren-Shava Method",
         "type": "scatter",
         "x": [
          "Mizrachi",
          "Leomi",
          "Hapoalim",
          "Diskont",
          "Benleomi",
          "Marcantil",
          "Jerusalem",
          "Others"
         ],
         "y": [
          1.3597375000000034,
          1.3642624999999997,
          1.3672791666666666,
          1.384625,
          1.3770833333333332,
          1.4004625000000037,
          1.4660749999999998,
          1.3650166666666665
         ]
        }
       ],
       "layout": {
        "hovermode": "closest",
        "legend": {
         "orientation": "v",
         "x": 0,
         "xanchor": "left",
         "y": 1,
         "yanchor": "top"
        },
        "showlegend": true,
        "template": {
         "data": {
          "bar": [
           {
            "error_x": {
             "color": "#2a3f5f"
            },
            "error_y": {
             "color": "#2a3f5f"
            },
            "marker": {
             "line": {
              "color": "#E5ECF6",
              "width": 0.5
             },
             "pattern": {
              "fillmode": "overlay",
              "size": 10,
              "solidity": 0.2
             }
            },
            "type": "bar"
           }
          ],
          "barpolar": [
           {
            "marker": {
             "line": {
              "color": "#E5ECF6",
              "width": 0.5
             },
             "pattern": {
              "fillmode": "overlay",
              "size": 10,
              "solidity": 0.2
             }
            },
            "type": "barpolar"
           }
          ],
          "carpet": [
           {
            "aaxis": {
             "endlinecolor": "#2a3f5f",
             "gridcolor": "white",
             "linecolor": "white",
             "minorgridcolor": "white",
             "startlinecolor": "#2a3f5f"
            },
            "baxis": {
             "endlinecolor": "#2a3f5f",
             "gridcolor": "white",
             "linecolor": "white",
             "minorgridcolor": "white",
             "startlinecolor": "#2a3f5f"
            },
            "type": "carpet"
           }
          ],
          "choropleth": [
           {
            "colorbar": {
             "outlinewidth": 0,
             "ticks": ""
            },
            "type": "choropleth"
           }
          ],
          "contour": [
           {
            "colorbar": {
             "outlinewidth": 0,
             "ticks": ""
            },
            "colorscale": [
             [
              0,
              "#0d0887"
             ],
             [
              0.1111111111111111,
              "#46039f"
             ],
             [
              0.2222222222222222,
              "#7201a8"
             ],
             [
              0.3333333333333333,
              "#9c179e"
             ],
             [
              0.4444444444444444,
              "#bd3786"
             ],
             [
              0.5555555555555556,
              "#d8576b"
             ],
             [
              0.6666666666666666,
              "#ed7953"
             ],
             [
              0.7777777777777778,
              "#fb9f3a"
             ],
             [
              0.8888888888888888,
              "#fdca26"
             ],
             [
              1,
              "#f0f921"
             ]
            ],
            "type": "contour"
           }
          ],
          "contourcarpet": [
           {
            "colorbar": {
             "outlinewidth": 0,
             "ticks": ""
            },
            "type": "contourcarpet"
           }
          ],
          "heatmap": [
           {
            "colorbar": {
             "outlinewidth": 0,
             "ticks": ""
            },
            "colorscale": [
             [
              0,
              "#0d0887"
             ],
             [
              0.1111111111111111,
              "#46039f"
             ],
             [
              0.2222222222222222,
              "#7201a8"
             ],
             [
              0.3333333333333333,
              "#9c179e"
             ],
             [
              0.4444444444444444,
              "#bd3786"
             ],
             [
              0.5555555555555556,
              "#d8576b"
             ],
             [
              0.6666666666666666,
              "#ed7953"
             ],
             [
              0.7777777777777778,
              "#fb9f3a"
             ],
             [
              0.8888888888888888,
              "#fdca26"
             ],
             [
              1,
              "#f0f921"
             ]
            ],
            "type": "heatmap"
           }
          ],
          "heatmapgl": [
           {
            "colorbar": {
             "outlinewidth": 0,
             "ticks": ""
            },
            "colorscale": [
             [
              0,
              "#0d0887"
             ],
             [
              0.1111111111111111,
              "#46039f"
             ],
             [
              0.2222222222222222,
              "#7201a8"
             ],
             [
              0.3333333333333333,
              "#9c179e"
             ],
             [
              0.4444444444444444,
              "#bd3786"
             ],
             [
              0.5555555555555556,
              "#d8576b"
             ],
             [
              0.6666666666666666,
              "#ed7953"
             ],
             [
              0.7777777777777778,
              "#fb9f3a"
             ],
             [
              0.8888888888888888,
              "#fdca26"
             ],
             [
              1,
              "#f0f921"
             ]
            ],
            "type": "heatmapgl"
           }
          ],
          "histogram": [
           {
            "marker": {
             "pattern": {
              "fillmode": "overlay",
              "size": 10,
              "solidity": 0.2
             }
            },
            "type": "histogram"
           }
          ],
          "histogram2d": [
           {
            "colorbar": {
             "outlinewidth": 0,
             "ticks": ""
            },
            "colorscale": [
             [
              0,
              "#0d0887"
             ],
             [
              0.1111111111111111,
              "#46039f"
             ],
             [
              0.2222222222222222,
              "#7201a8"
             ],
             [
              0.3333333333333333,
              "#9c179e"
             ],
             [
              0.4444444444444444,
              "#bd3786"
             ],
             [
              0.5555555555555556,
              "#d8576b"
             ],
             [
              0.6666666666666666,
              "#ed7953"
             ],
             [
              0.7777777777777778,
              "#fb9f3a"
             ],
             [
              0.8888888888888888,
              "#fdca26"
             ],
             [
              1,
              "#f0f921"
             ]
            ],
            "type": "histogram2d"
           }
          ],
          "histogram2dcontour": [
           {
            "colorbar": {
             "outlinewidth": 0,
             "ticks": ""
            },
            "colorscale": [
             [
              0,
              "#0d0887"
             ],
             [
              0.1111111111111111,
              "#46039f"
             ],
             [
              0.2222222222222222,
              "#7201a8"
             ],
             [
              0.3333333333333333,
              "#9c179e"
             ],
             [
              0.4444444444444444,
              "#bd3786"
             ],
             [
              0.5555555555555556,
              "#d8576b"
             ],
             [
              0.6666666666666666,
              "#ed7953"
             ],
             [
              0.7777777777777778,
              "#fb9f3a"
             ],
             [
              0.8888888888888888,
              "#fdca26"
             ],
             [
              1,
              "#f0f921"
             ]
            ],
            "type": "histogram2dcontour"
           }
          ],
          "mesh3d": [
           {
            "colorbar": {
             "outlinewidth": 0,
             "ticks": ""
            },
            "type": "mesh3d"
           }
          ],
          "parcoords": [
           {
            "line": {
             "colorbar": {
              "outlinewidth": 0,
              "ticks": ""
             }
            },
            "type": "parcoords"
           }
          ],
          "pie": [
           {
            "automargin": true,
            "type": "pie"
           }
          ],
          "scatter": [
           {
            "fillpattern": {
             "fillmode": "overlay",
             "size": 10,
             "solidity": 0.2
            },
            "type": "scatter"
           }
          ],
          "scatter3d": [
           {
            "line": {
             "colorbar": {
              "outlinewidth": 0,
              "ticks": ""
             }
            },
            "marker": {
             "colorbar": {
              "outlinewidth": 0,
              "ticks": ""
             }
            },
            "type": "scatter3d"
           }
          ],
          "scattercarpet": [
           {
            "marker": {
             "colorbar": {
              "outlinewidth": 0,
              "ticks": ""
             }
            },
            "type": "scattercarpet"
           }
          ],
          "scattergeo": [
           {
            "marker": {
             "colorbar": {
              "outlinewidth": 0,
              "ticks": ""
             }
            },
            "type": "scattergeo"
           }
          ],
          "scattergl": [
           {
            "marker": {
             "colorbar": {
              "outlinewidth": 0,
              "ticks": ""
             }
            },
            "type": "scattergl"
           }
          ],
          "scattermapbox": [
           {
            "marker": {
             "colorbar": {
              "outlinewidth": 0,
              "ticks": ""
             }
            },
            "type": "scattermapbox"
           }
          ],
          "scatterpolar": [
           {
            "marker": {
             "colorbar": {
              "outlinewidth": 0,
              "ticks": ""
             }
            },
            "type": "scatterpolar"
           }
          ],
          "scatterpolargl": [
           {
            "marker": {
             "colorbar": {
              "outlinewidth": 0,
              "ticks": ""
             }
            },
            "type": "scatterpolargl"
           }
          ],
          "scatterternary": [
           {
            "marker": {
             "colorbar": {
              "outlinewidth": 0,
              "ticks": ""
             }
            },
            "type": "scatterternary"
           }
          ],
          "surface": [
           {
            "colorbar": {
             "outlinewidth": 0,
             "ticks": ""
            },
            "colorscale": [
             [
              0,
              "#0d0887"
             ],
             [
              0.1111111111111111,
              "#46039f"
             ],
             [
              0.2222222222222222,
              "#7201a8"
             ],
             [
              0.3333333333333333,
              "#9c179e"
             ],
             [
              0.4444444444444444,
              "#bd3786"
             ],
             [
              0.5555555555555556,
              "#d8576b"
             ],
             [
              0.6666666666666666,
              "#ed7953"
             ],
             [
              0.7777777777777778,
              "#fb9f3a"
             ],
             [
              0.8888888888888888,
              "#fdca26"
             ],
             [
              1,
              "#f0f921"
             ]
            ],
            "type": "surface"
           }
          ],
          "table": [
           {
            "cells": {
             "fill": {
              "color": "#EBF0F8"
             },
             "line": {
              "color": "white"
             }
            },
            "header": {
             "fill": {
              "color": "#C8D4E3"
             },
             "line": {
              "color": "white"
             }
            },
            "type": "table"
           }
          ]
         },
         "layout": {
          "annotationdefaults": {
           "arrowcolor": "#2a3f5f",
           "arrowhead": 0,
           "arrowwidth": 1
          },
          "autotypenumbers": "strict",
          "coloraxis": {
           "colorbar": {
            "outlinewidth": 0,
            "ticks": ""
           }
          },
          "colorscale": {
           "diverging": [
            [
             0,
             "#8e0152"
            ],
            [
             0.1,
             "#c51b7d"
            ],
            [
             0.2,
             "#de77ae"
            ],
            [
             0.3,
             "#f1b6da"
            ],
            [
             0.4,
             "#fde0ef"
            ],
            [
             0.5,
             "#f7f7f7"
            ],
            [
             0.6,
             "#e6f5d0"
            ],
            [
             0.7,
             "#b8e186"
            ],
            [
             0.8,
             "#7fbc41"
            ],
            [
             0.9,
             "#4d9221"
            ],
            [
             1,
             "#276419"
            ]
           ],
           "sequential": [
            [
             0,
             "#0d0887"
            ],
            [
             0.1111111111111111,
             "#46039f"
            ],
            [
             0.2222222222222222,
             "#7201a8"
            ],
            [
             0.3333333333333333,
             "#9c179e"
            ],
            [
             0.4444444444444444,
             "#bd3786"
            ],
            [
             0.5555555555555556,
             "#d8576b"
            ],
            [
             0.6666666666666666,
             "#ed7953"
            ],
            [
             0.7777777777777778,
             "#fb9f3a"
            ],
            [
             0.8888888888888888,
             "#fdca26"
            ],
            [
             1,
             "#f0f921"
            ]
           ],
           "sequentialminus": [
            [
             0,
             "#0d0887"
            ],
            [
             0.1111111111111111,
             "#46039f"
            ],
            [
             0.2222222222222222,
             "#7201a8"
            ],
            [
             0.3333333333333333,
             "#9c179e"
            ],
            [
             0.4444444444444444,
             "#bd3786"
            ],
            [
             0.5555555555555556,
             "#d8576b"
            ],
            [
             0.6666666666666666,
             "#ed7953"
            ],
            [
             0.7777777777777778,
             "#fb9f3a"
            ],
            [
             0.8888888888888888,
             "#fdca26"
            ],
            [
             1,
             "#f0f921"
            ]
           ]
          },
          "colorway": [
           "#636efa",
           "#EF553B",
           "#00cc96",
           "#ab63fa",
           "#FFA15A",
           "#19d3f3",
           "#FF6692",
           "#B6E880",
           "#FF97FF",
           "#FECB52"
          ],
          "font": {
           "color": "#2a3f5f"
          },
          "geo": {
           "bgcolor": "white",
           "lakecolor": "white",
           "landcolor": "#E5ECF6",
           "showlakes": true,
           "showland": true,
           "subunitcolor": "white"
          },
          "hoverlabel": {
           "align": "left"
          },
          "hovermode": "closest",
          "mapbox": {
           "style": "light"
          },
          "paper_bgcolor": "white",
          "plot_bgcolor": "#E5ECF6",
          "polar": {
           "angularaxis": {
            "gridcolor": "white",
            "linecolor": "white",
            "ticks": ""
           },
           "bgcolor": "#E5ECF6",
           "radialaxis": {
            "gridcolor": "white",
            "linecolor": "white",
            "ticks": ""
           }
          },
          "scene": {
           "xaxis": {
            "backgroundcolor": "#E5ECF6",
            "gridcolor": "white",
            "gridwidth": 2,
            "linecolor": "white",
            "showbackground": true,
            "ticks": "",
            "zerolinecolor": "white"
           },
           "yaxis": {
            "backgroundcolor": "#E5ECF6",
            "gridcolor": "white",
            "gridwidth": 2,
            "linecolor": "white",
            "showbackground": true,
            "ticks": "",
            "zerolinecolor": "white"
           },
           "zaxis": {
            "backgroundcolor": "#E5ECF6",
            "gridcolor": "white",
            "gridwidth": 2,
            "linecolor": "white",
            "showbackground": true,
            "ticks": "",
            "zerolinecolor": "white"
           }
          },
          "shapedefaults": {
           "line": {
            "color": "#2a3f5f"
           }
          },
          "ternary": {
           "aaxis": {
            "gridcolor": "white",
            "linecolor": "white",
            "ticks": ""
           },
           "baxis": {
            "gridcolor": "white",
            "linecolor": "white",
            "ticks": ""
           },
           "bgcolor": "#E5ECF6",
           "caxis": {
            "gridcolor": "white",
            "linecolor": "white",
            "ticks": ""
           }
          },
          "title": {
           "x": 0.05
          },
          "xaxis": {
           "automargin": true,
           "gridcolor": "white",
           "linecolor": "white",
           "ticks": "",
           "title": {
            "standoff": 15
           },
           "zerolinecolor": "white",
           "zerolinewidth": 2
          },
          "yaxis": {
           "automargin": true,
           "gridcolor": "white",
           "linecolor": "white",
           "ticks": "",
           "title": {
            "standoff": 15
           },
           "zerolinecolor": "white",
           "zerolinewidth": 2
          }
         }
        },
        "title": {
         "text": "Shpizer Payback Rate by Bank"
        },
        "xaxis": {
         "title": {
          "text": "Bank"
         }
        },
        "yaxis": {
         "title": {
          "text": "Shpizer Payback Rate"
         }
        }
       }
      }
     },
     "metadata": {},
     "output_type": "display_data"
    }
   ],
   "source": [
    "traces = []\n",
    "for risk_level, mix_loan_types in combination_dict.items():\n",
    "    if risk_level != \"low_risk\": \n",
    "        continue  # for now\n",
    "    \n",
    "    bank_names_list = []\n",
    "    shpizer_payback_rate = []\n",
    "    keren_shava_playback_rate = []\n",
    "\n",
    "    # Iterate through unique bank names\n",
    "    for bank_name in unique_bank_names: \n",
    "        bank_names_list.append(bank_name)\n",
    "        bank_data = banks_info.loc[banks_info['Bank'] == bank_name]\n",
    "        \n",
    "        for single_loan_type in mix_loan_types:\n",
    "            interest_rate = bank_data.loc[bank_data[\"loan_type\"] == single_loan_type][\"Interest Rate\"].values[0]\n",
    "            \n",
    "            dict_shpizer = calc_total_payback_and_payback_rate_per_type(\n",
    "                loan_type=single_loan_type, \n",
    "                mortgage_amount_nis=mortgage_amount_nis,\n",
    "                years=num_of_years, \n",
    "                annual_interest_rate=interest_rate, \n",
    "                payback_method=\"shpizer\"\n",
    "            )\n",
    "            \n",
    "            dict_keren_shava = calc_total_payback_and_payback_rate_per_type(\n",
    "                loan_type = single_loan_type, \n",
    "                mortgage_amount_nis=mortgage_amount_nis,               \n",
    "                years=num_of_years, \n",
    "                annual_interest_rate = interest_rate, \n",
    "                payback_method=\"keren_shava\"\n",
    "            )\n",
    "            \n",
    "            shpizer_payback_rate.append(dict_shpizer[\"payback_rate\"])\n",
    "            keren_shava_playback_rate.append(dict_keren_shava[\"payback_rate\"])\n",
    "    # Create a trace for the current risk level\n",
    "    trace = go.Scatter(\n",
    "        x=bank_names_list,    \n",
    "        y=shpizer_payback_rate,         \n",
    "        mode='lines+markers',    \n",
    "        name=f'Payback Rate - {risk_level}- Shpizer Method'  # Ensure unique trace names\n",
    "    )\n",
    "    traces.append(trace)\n",
    "    \n",
    "    trace = go.Scatter(\n",
    "        x=bank_names_list,    \n",
    "        y=keren_shava_playback_rate,         \n",
    "        mode='lines+markers',    \n",
    "        name=f'Payback Rate - {risk_level} - Keren-Shava Method'  # Ensure unique trace names\n",
    "    )\n",
    "    traces.append(trace)\n",
    "\n",
    "# Create the layout for the figure\n",
    "layout = go.Layout(\n",
    "    title=\"Shpizer Payback Rate by Bank\",\n",
    "    xaxis_title=\"Bank\",\n",
    "    yaxis_title=\"Shpizer Payback Rate\",\n",
    "    hovermode='closest',\n",
    "    showlegend=True,  # Explicitly show the legend\n",
    "    legend=dict(\n",
    "        orientation='v',  # Vertical orientation\n",
    "        x=0,  # Position on the left\n",
    "        xanchor='left',  # Anchor to the left\n",
    "        y=1,  # Position at the top\n",
    "        yanchor='top'  # Anchor to the top\n",
    "    )\n",
    ")\n",
    "\n",
    "# Create the figure once after processing all banks\n",
    "fig = go.Figure(data=traces, layout=layout)\n",
    "\n",
    "# Show the figure\n",
    "fig.show()\n",
    "\n",
    "# Optionally, save the figure to an HTML file\n",
    "# fig.write_html(\"figure.html\")\n",
    "# Open the HTML file in a browser\n",
    "# import webbrowser\n",
    "# import os\n",
    "# file_path = os.path.abspath(\"figure.html\")\n",
    "# webbrowser.open(f\"file://{file_path}\")\n"
   ]
  },
  {
   "cell_type": "code",
   "execution_count": 22,
   "metadata": {},
   "outputs": [
    {
     "ename": "TypeError",
     "evalue": "'NoneType' object is not subscriptable",
     "output_type": "error",
     "traceback": [
      "\u001b[1;31m---------------------------------------------------------------------------\u001b[0m",
      "\u001b[1;31mTypeError\u001b[0m                                 Traceback (most recent call last)",
      "Cell \u001b[1;32mIn[22], line 40\u001b[0m\n\u001b[0;32m     38\u001b[0m \u001b[38;5;66;03m# Accumulate rates for weighted average calculations\u001b[39;00m\n\u001b[0;32m     39\u001b[0m \u001b[38;5;28;01mif\u001b[39;00m risk_level \u001b[38;5;241m==\u001b[39m \u001b[38;5;124m\"\u001b[39m\u001b[38;5;124mmiddle_risk\u001b[39m\u001b[38;5;124m\"\u001b[39m:\n\u001b[1;32m---> 40\u001b[0m     total_shpizer_rate \u001b[38;5;241m+\u001b[39m\u001b[38;5;241m=\u001b[39m \u001b[43mdict_shpizer\u001b[49m\u001b[43m[\u001b[49m\u001b[38;5;124;43m\"\u001b[39;49m\u001b[38;5;124;43mpayback_rate\u001b[39;49m\u001b[38;5;124;43m\"\u001b[39;49m\u001b[43m]\u001b[49m \u001b[38;5;241m*\u001b[39m \u001b[38;5;241m0.333\u001b[39m  \u001b[38;5;66;03m# Weight for middle risk\u001b[39;00m\n\u001b[0;32m     41\u001b[0m     total_keren_shava_rate \u001b[38;5;241m+\u001b[39m\u001b[38;5;241m=\u001b[39m dict_keren_shava[\u001b[38;5;124m\"\u001b[39m\u001b[38;5;124mpayback_rate\u001b[39m\u001b[38;5;124m\"\u001b[39m] \u001b[38;5;241m*\u001b[39m \u001b[38;5;241m0.333\u001b[39m  \u001b[38;5;66;03m# Weight for middle risk\u001b[39;00m\n\u001b[0;32m     42\u001b[0m     loan_count \u001b[38;5;241m+\u001b[39m\u001b[38;5;241m=\u001b[39m \u001b[38;5;241m1\u001b[39m  \u001b[38;5;66;03m# Count loan types\u001b[39;00m\n",
      "\u001b[1;31mTypeError\u001b[0m: 'NoneType' object is not subscriptable"
     ]
    }
   ],
   "source": [
    "import plotly.graph_objects as go\n",
    "\n",
    "traces = []\n",
    "for risk_level, mix_loan_types in combination_dict.items():\n",
    "    bank_names_list = []\n",
    "    shpizer_payback_rate = []\n",
    "    keren_shava_playback_rate = []\n",
    "    \n",
    "    # Iterate through unique bank names\n",
    "    for bank_name in unique_bank_names: \n",
    "        bank_names_list.append(bank_name)\n",
    "        bank_data = banks_info.loc[banks_info['Bank'] == bank_name]\n",
    "\n",
    "        # Reset rates for each bank\n",
    "        total_shpizer_rate = 0\n",
    "        total_keren_shava_rate = 0\n",
    "        loan_count = 0  # For counting loan types\n",
    "        \n",
    "        for single_loan_type in mix_loan_types:\n",
    "            interest_rate = bank_data.loc[bank_data[\"loan_type\"] == single_loan_type][\"Interest Rate\"].values[0]\n",
    "\n",
    "            dict_shpizer = calc_total_payback_and_payback_rate_per_type(\n",
    "                loan_type=single_loan_type, \n",
    "                mortgage_amount_nis=mortgage_amount_nis,\n",
    "                years=num_of_years, \n",
    "                annual_interest_rate=interest_rate, \n",
    "                payback_method=\"shpizer\"\n",
    "            )\n",
    "\n",
    "            dict_keren_shava = calc_total_payback_and_payback_rate_per_type(\n",
    "                loan_type=single_loan_type, \n",
    "                mortgage_amount_nis=mortgage_amount_nis,               \n",
    "                years=num_of_years, \n",
    "                annual_interest_rate=interest_rate, \n",
    "                payback_method=\"keren_shava\"\n",
    "            )\n",
    "\n",
    "            # Accumulate rates for weighted average calculations\n",
    "            if risk_level == \"middle_risk\":\n",
    "                total_shpizer_rate += dict_shpizer[\"payback_rate\"] * 0.333  # Weight for middle risk\n",
    "                total_keren_shava_rate += dict_keren_shava[\"payback_rate\"] * 0.333  # Weight for middle risk\n",
    "                loan_count += 1  # Count loan types\n",
    "            else:  # For low risk, just append\n",
    "                shpizer_payback_rate.append(dict_shpizer[\"payback_rate\"])\n",
    "                keren_shava_playback_rate.append(dict_keren_shava[\"payback_rate\"])\n",
    "\n",
    "        # Calculate average rates for middle risk if any loan types were counted\n",
    "        if loan_count > 0:\n",
    "            shpizer_payback_rate.append(total_shpizer_rate)  # Add the weighted average for middle risk\n",
    "            keren_shava_playback_rate.append(total_keren_shava_rate)  # Add the weighted average for middle risk\n",
    "\n",
    "    # Create a trace for the current risk level\n",
    "    trace = go.Scatter(\n",
    "        x=bank_names_list,    \n",
    "        y=shpizer_payback_rate,         \n",
    "        mode='lines+markers',    \n",
    "        name=f'Payback Rate - {risk_level} - Shpizer Method'  # Ensure unique trace names\n",
    "    )\n",
    "    traces.append(trace)\n",
    "    \n",
    "    trace = go.Scatter(\n",
    "        x=bank_names_list,    \n",
    "        y=keren_shava_playback_rate,         \n",
    "        mode='lines+markers',    \n",
    "        name=f'Payback Rate - {risk_level} - Keren-Shava Method'  # Ensure unique trace names\n",
    "    )\n",
    "    traces.append(trace)\n",
    "\n",
    "# Create the layout for the figure\n",
    "layout = go.Layout(\n",
    "    title=\"Payback Rate by Bank\",\n",
    "    xaxis_title=\"Bank\",\n",
    "    yaxis_title=\"Payback Rate\",\n",
    "    hovermode='closest',\n",
    "    showlegend=True,  # Explicitly show the legend\n",
    "    legend=dict(\n",
    "        orientation='v',  # Vertical orientation\n",
    "        x=0,  # Position on the left\n",
    "        xanchor='left',  # Anchor to the left\n",
    "        y=1,  # Position at the top\n",
    "        yanchor='top'  # Anchor to the top\n",
    "    )\n",
    ")\n",
    "\n",
    "# Create the figure once after processing all banks\n",
    "fig = go.Figure(data=traces, layout=layout)\n",
    "\n",
    "# Show the figure\n",
    "fig.show()\n",
    "\n",
    "# Optionally, save the figure to an HTML file\n",
    "# fig.write_html(\"figure.html\")\n",
    "# Open the HTML file in a browser\n",
    "# import webbrowser\n",
    "# import os\n",
    "# file_path = os.path.abspath(\"figure.html\")\n",
    "# webbrowser.open(f\"file://{file_path}\")\n"
   ]
  }
 ],
 "metadata": {
  "kernelspec": {
   "display_name": "Python 3",
   "language": "python",
   "name": "python3"
  },
  "language_info": {
   "codemirror_mode": {
    "name": "ipython",
    "version": 3
   },
   "file_extension": ".py",
   "mimetype": "text/x-python",
   "name": "python",
   "nbconvert_exporter": "python",
   "pygments_lexer": "ipython3",
   "version": "3.11.2"
  }
 },
 "nbformat": 4,
 "nbformat_minor": 2
}
